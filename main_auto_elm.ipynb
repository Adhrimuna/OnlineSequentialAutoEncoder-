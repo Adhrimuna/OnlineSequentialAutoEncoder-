{
 "cells": [
  {
   "cell_type": "code",
   "execution_count": 1,
   "metadata": {
    "_cell_guid": "b1076dfc-b9ad-4769-8c92-a6c4dae69d19",
    "_uuid": "8f2839f25d086af736a60e9eeb907d3b93b6e0e5"
   },
   "outputs": [
    {
     "name": "stdout",
     "output_type": "stream",
     "text": [
      "        0      1      2      3      4      5      6      7      8      9    \\\n",
      "0      75.0  110.0   77.0   48.0  121.0  133.0   80.0   31.0   59.0   92.0   \n",
      "1      83.0  108.0   75.0   53.0  116.0  133.0   78.0   32.0   53.0   94.0   \n",
      "2      83.0  120.0   65.0   58.0  119.0  138.0   79.0   32.0   60.0   89.0   \n",
      "3      74.0  127.0   53.0   55.0  119.0  141.0   84.0   31.0   59.0   93.0   \n",
      "4      81.0  130.0   49.0   57.0  120.0  138.0   86.0   33.0   55.0  108.0   \n",
      "5      76.0  142.0   50.0   52.0  127.0  139.0   75.0   32.0   53.0  121.0   \n",
      "6      75.0  162.0   47.0   45.0  141.0  137.0   72.0   31.0   53.0  125.0   \n",
      "7      64.0  169.0   43.0   34.0  141.0  138.0   68.0   29.0   53.0  125.0   \n",
      "8      60.0  171.0   48.0   20.0  141.0  143.0   69.0   28.0   50.0  125.0   \n",
      "9      64.0  166.0   64.0   29.0  140.0  146.0   74.0   27.0   50.0  128.0   \n",
      "10     69.0  160.0   90.0   44.0  140.0  138.0   83.0   28.0   51.0  129.0   \n",
      "11     71.0  162.0  136.0   54.0  142.0  128.0   83.0   29.0   54.0  129.0   \n",
      "12     71.0  163.0  166.0   53.0  144.0  124.0   77.0   28.0   58.0  128.0   \n",
      "13     79.0  161.0  174.0   48.0  144.0  131.0   85.0   29.0   62.0  131.0   \n",
      "14     79.0  164.0  176.0   40.0  143.0  137.0   95.0   30.0   67.0  137.0   \n",
      "15     76.0  166.0  141.0   32.0  144.0  136.0   87.0   33.0   70.0  141.0   \n",
      "16     76.0  166.0  117.0   29.0  148.0  105.0   78.0   38.0   74.0  144.0   \n",
      "17     79.0  168.0  111.0   29.0  152.0   63.0   82.0   47.0   82.0  147.0   \n",
      "18     91.0  168.0  125.0   31.0  157.0   46.0   79.0   55.0   92.0  151.0   \n",
      "19    138.0  172.0  145.0   31.0  160.0   43.0   68.0   64.0  101.0  153.0   \n",
      "20    148.0  175.0  161.0   23.0  163.0   49.0   67.0   73.0  112.0  151.0   \n",
      "21    148.0  172.0  180.0   20.0  164.0   52.0   62.0   80.0  114.0  149.0   \n",
      "22    151.0  174.0  190.0   27.0  162.0   48.0   63.0   88.0  116.0  146.0   \n",
      "23    152.0  172.0  149.0   35.0  160.0   31.0   75.0   90.0  118.0  146.0   \n",
      "24    142.0  173.0  133.0   53.0  154.0   19.0   98.0   91.0  122.0  140.0   \n",
      "25    140.0  176.0  159.0   71.0  154.0   10.0  113.0   91.0  123.0  137.0   \n",
      "26    145.0  177.0  172.0   63.0  154.0    7.0  130.0   90.0  123.0  134.0   \n",
      "27    149.0  180.0  169.0   47.0  151.0   13.0  142.0   89.0  123.0  132.0   \n",
      "28    155.0  178.0  159.0   25.0  149.0   30.0  144.0   89.0  120.0  130.0   \n",
      "29    163.0  179.0  177.0   20.0  145.0   43.0  143.0   89.0  117.0  128.0   \n",
      "...     ...    ...    ...    ...    ...    ...    ...    ...    ...    ...   \n",
      "4066  140.0   45.0   47.0  180.0   50.0  169.0  142.0  184.0  186.0   55.0   \n",
      "4067  145.0   40.0   44.0  179.0   54.0  167.0  142.0  189.0  188.0   50.0   \n",
      "4068  155.0   45.0   44.0  178.0   51.0  165.0  141.0  188.0  163.0   52.0   \n",
      "4069  145.0   43.0   45.0  178.0   52.0  165.0  140.0  187.0  143.0   50.0   \n",
      "4070   68.0   46.0   45.0  175.0   50.0  164.0  139.0  183.0  150.0   50.0   \n",
      "4071   43.0   42.0   44.0  174.0   50.0  163.0  138.0  185.0  158.0   50.0   \n",
      "4072   40.0   39.0   43.0  173.0   52.0  163.0  134.0  138.0  172.0   50.0   \n",
      "4073   41.0   40.0   46.0  173.0   51.0  164.0  135.0   65.0  189.0   53.0   \n",
      "4074   43.0   38.0   41.0  173.0   44.0  164.0  141.0   47.0  188.0   51.0   \n",
      "4075   42.0   38.0   43.0  173.0   51.0  163.0  137.0   46.0  175.0   46.0   \n",
      "4076   43.0   39.0   41.0  172.0   50.0  162.0  138.0   46.0  150.0   47.0   \n",
      "4077   39.0   36.0   41.0  170.0   49.0  160.0  141.0   44.0  133.0   48.0   \n",
      "4078   42.0   40.0   41.0  168.0   45.0  154.0  141.0   43.0  129.0   51.0   \n",
      "4079   42.0   40.0   42.0  164.0   49.0  152.0  145.0   45.0  132.0   56.0   \n",
      "4080   39.0   38.0   41.0  160.0   52.0  150.0  156.0   45.0  140.0   51.0   \n",
      "4081   40.0   41.0   39.0  154.0   49.0  145.0  134.0   45.0  153.0   53.0   \n",
      "4082   38.0   40.0   37.0  143.0   47.0  139.0   63.0   44.0  191.0   51.0   \n",
      "4083   40.0   38.0   40.0  141.0   51.0  132.0   39.0   43.0  194.0   49.0   \n",
      "4084   40.0   41.0   39.0  145.0   48.0  132.0   39.0   43.0  188.0   50.0   \n",
      "4085   40.0   38.0   40.0  148.0   46.0  136.0   40.0   41.0  184.0   48.0   \n",
      "4086   41.0   38.0   38.0  154.0   44.0  142.0   39.0   44.0  179.0   51.0   \n",
      "4087   41.0   36.0   38.0  163.0   43.0  145.0   40.0   44.0  172.0   44.0   \n",
      "4088   40.0   37.0   40.0  168.0   43.0  152.0   39.0   43.0  138.0   48.0   \n",
      "4089   39.0   36.0   41.0  175.0   46.0  161.0   39.0   44.0   67.0   44.0   \n",
      "4090   38.0   34.0   38.0  177.0   40.0  165.0   40.0   45.0   47.0   46.0   \n",
      "4091   39.0   37.0   37.0  177.0   48.0  166.0   40.0   48.0   44.0   44.0   \n",
      "4092   41.0   39.0   37.0  177.0   44.0  170.0   38.0   44.0   47.0   46.0   \n",
      "4093   42.0   35.0   37.0  178.0   47.0  171.0   39.0   43.0   47.0   43.0   \n",
      "4094   40.0   33.0   38.0  180.0   40.0  171.0   38.0   45.0   47.0   39.0   \n",
      "4095   38.0   37.0   37.0  179.0   42.0  170.0   37.0   42.0   46.0   42.0   \n",
      "\n",
      "      ...      390    391    392    393    394    395    396    397    398  \\\n",
      "0     ...    132.0   81.0  110.0  125.0   70.0   97.0   89.0  121.0   52.0   \n",
      "1     ...    132.0   81.0  109.0  124.0   71.0  102.0   88.0  119.0   49.0   \n",
      "2     ...    132.0   80.0  109.0  114.0   70.0  104.0   88.0  113.0   51.0   \n",
      "3     ...    134.0   75.0  107.0  112.0   65.0   95.0   89.0  114.0   55.0   \n",
      "4     ...    134.0   71.0  109.0  115.0   65.0   93.0   88.0  118.0   61.0   \n",
      "5     ...    134.0   71.0  111.0  113.0   62.0   93.0   87.0  121.0   68.0   \n",
      "6     ...    133.0   69.0  117.0  115.0   56.0   95.0   88.0  125.0   73.0   \n",
      "7     ...    134.0   67.0  120.0  112.0   51.0   99.0   85.0  129.0   73.0   \n",
      "8     ...    141.0   67.0  122.0  111.0   48.0  103.0   81.0  135.0   73.0   \n",
      "9     ...    144.0   67.0  125.0  113.0   44.0  103.0   83.0  140.0   69.0   \n",
      "10    ...    146.0   67.0  130.0  116.0   47.0  108.0   86.0  143.0   70.0   \n",
      "11    ...    148.0   67.0  132.0  113.0   51.0  118.0   84.0  145.0   75.0   \n",
      "12    ...    148.0   71.0  132.0  111.0   49.0  121.0   83.0  146.0   78.0   \n",
      "13    ...    149.0   76.0  132.0  107.0   56.0  124.0   84.0  145.0   74.0   \n",
      "14    ...    149.0   79.0  133.0  107.0   59.0  120.0   82.0  148.0   76.0   \n",
      "15    ...    153.0   78.0  134.0  111.0   61.0  127.0   83.0  149.0   73.0   \n",
      "16    ...    157.0   76.0  137.0  106.0   59.0  134.0   83.0  150.0   76.0   \n",
      "17    ...    157.0   79.0  140.0  108.0   56.0  136.0   83.0  154.0   69.0   \n",
      "18    ...    159.0   86.0  139.0  105.0   64.0  137.0   84.0  152.0   67.0   \n",
      "19    ...    158.0   92.0  140.0  108.0   77.0  138.0   85.0  150.0   71.0   \n",
      "20    ...    156.0   94.0  138.0  107.0   85.0  137.0   83.0  149.0   72.0   \n",
      "21    ...    154.0   93.0  135.0  105.0   90.0  134.0   82.0  146.0   74.0   \n",
      "22    ...    152.0   90.0  134.0  104.0   91.0  128.0   81.0  146.0   72.0   \n",
      "23    ...    150.0   86.0  129.0  104.0   85.0  120.0   82.0  141.0   71.0   \n",
      "24    ...    146.0   76.0  124.0  108.0   80.0  105.0   83.0  134.0   71.0   \n",
      "25    ...    142.0   63.0  116.0  104.0   80.0   99.0   84.0  123.0   73.0   \n",
      "26    ...    137.0   55.0  106.0  103.0   63.0  126.0   82.0  109.0   71.0   \n",
      "27    ...    130.0   57.0   97.0  106.0   54.0  151.0   79.0  100.0   73.0   \n",
      "28    ...    120.0   69.0   90.0  105.0   60.0  169.0   80.0   99.0   70.0   \n",
      "29    ...    112.0   88.0   91.0  103.0   72.0  173.0   82.0  102.0   68.0   \n",
      "...   ...      ...    ...    ...    ...    ...    ...    ...    ...    ...   \n",
      "4066  ...     66.0  132.0  123.0  138.0  120.0   95.0  155.0   61.0  159.0   \n",
      "4067  ...     49.0  143.0  108.0  133.0  123.0   80.0  151.0   51.0  158.0   \n",
      "4068  ...     44.0  150.0   98.0  126.0  132.0   55.0  151.0   47.0  157.0   \n",
      "4069  ...     48.0  147.0   97.0  120.0  143.0   37.0  145.0   47.0  154.0   \n",
      "4070  ...     49.0  125.0   96.0  117.0  152.0   37.0  144.0   48.0  152.0   \n",
      "4071  ...     47.0   93.0   95.0  114.0  143.0   41.0  141.0   47.0  151.0   \n",
      "4072  ...     46.0   73.0   99.0  111.0  109.0   41.0  136.0   47.0  147.0   \n",
      "4073  ...     47.0   71.0   97.0  111.0   63.0   43.0  137.0   48.0  151.0   \n",
      "4074  ...     44.0   70.0  100.0  110.0   49.0   43.0  135.0   45.0  150.0   \n",
      "4075  ...     44.0   69.0   99.0  112.0   47.0   44.0  134.0   43.0  151.0   \n",
      "4076  ...     43.0   71.0   98.0  110.0   54.0   44.0  135.0   45.0  152.0   \n",
      "4077  ...     39.0   75.0   98.0  109.0   57.0   45.0  137.0   48.0  152.0   \n",
      "4078  ...     44.0   80.0   98.0  108.0   57.0   47.0  138.0   46.0  151.0   \n",
      "4079  ...     46.0   86.0   98.0  107.0   57.0   46.0  137.0   46.0  149.0   \n",
      "4080  ...     46.0   87.0   97.0  109.0   56.0   47.0  137.0   44.0  149.0   \n",
      "4081  ...     46.0   89.0   97.0  108.0   61.0   42.0  137.0   42.0  148.0   \n",
      "4082  ...     45.0   87.0   97.0  105.0   63.0   40.0  135.0   45.0  144.0   \n",
      "4083  ...     46.0   89.0   98.0  104.0   65.0   44.0  132.0   44.0  141.0   \n",
      "4084  ...     45.0   89.0   98.0  103.0   68.0   38.0  129.0   43.0  137.0   \n",
      "4085  ...     43.0   91.0   97.0  100.0   76.0   36.0  124.0   44.0  134.0   \n",
      "4086  ...     41.0   92.0   96.0   94.0   78.0   41.0  116.0   43.0  128.0   \n",
      "4087  ...     43.0   93.0   95.0   91.0   80.0   41.0  107.0   41.0  121.0   \n",
      "4088  ...     41.0   92.0   94.0   83.0   83.0   37.0   97.0   40.0  117.0   \n",
      "4089  ...     39.0   94.0   94.0   70.0   84.0   41.0   86.0   40.0  119.0   \n",
      "4090  ...     38.0   92.0   95.0   74.0   84.0   41.0   89.0   39.0  128.0   \n",
      "4091  ...     40.0   93.0   94.0   84.0   83.0   37.0  103.0   42.0  136.0   \n",
      "4092  ...     38.0   94.0   95.0   83.0   82.0   44.0  116.0   42.0  141.0   \n",
      "4093  ...     44.0   93.0   93.0   76.0   86.0   44.0  123.0   41.0  143.0   \n",
      "4094  ...     46.0   93.0   96.0   86.0   89.0   40.0  129.0   45.0  144.0   \n",
      "4095  ...     44.0   93.0   93.0   88.0   88.0   33.0  133.0   46.0  146.0   \n",
      "\n",
      "        399  \n",
      "0     125.0  \n",
      "1     125.0  \n",
      "2     125.0  \n",
      "3     120.0  \n",
      "4     120.0  \n",
      "5     117.0  \n",
      "6     116.0  \n",
      "7     117.0  \n",
      "8     116.0  \n",
      "9     116.0  \n",
      "10    115.0  \n",
      "11    115.0  \n",
      "12    115.0  \n",
      "13    113.0  \n",
      "14    113.0  \n",
      "15    111.0  \n",
      "16    111.0  \n",
      "17    112.0  \n",
      "18    113.0  \n",
      "19    106.0  \n",
      "20    106.0  \n",
      "21    108.0  \n",
      "22    108.0  \n",
      "23    110.0  \n",
      "24    109.0  \n",
      "25    109.0  \n",
      "26    109.0  \n",
      "27    108.0  \n",
      "28    109.0  \n",
      "29    109.0  \n",
      "...     ...  \n",
      "4066  128.0  \n",
      "4067  121.0  \n",
      "4068  116.0  \n",
      "4069  115.0  \n",
      "4070  115.0  \n",
      "4071  115.0  \n",
      "4072  112.0  \n",
      "4073  109.0  \n",
      "4074  109.0  \n",
      "4075  110.0  \n",
      "4076  109.0  \n",
      "4077  109.0  \n",
      "4078  108.0  \n",
      "4079  108.0  \n",
      "4080  108.0  \n",
      "4081  108.0  \n",
      "4082  103.0  \n",
      "4083  104.0  \n",
      "4084  101.0  \n",
      "4085   96.0  \n",
      "4086   88.0  \n",
      "4087   80.0  \n",
      "4088   78.0  \n",
      "4089   89.0  \n",
      "4090   93.0  \n",
      "4091   91.0  \n",
      "4092   93.0  \n",
      "4093   96.0  \n",
      "4094   91.0  \n",
      "4095   93.0  \n",
      "\n",
      "[4096 rows x 400 columns]\n"
     ]
    },
    {
     "data": {
      "text/plain": [
       "(4096, 400)"
      ]
     },
     "execution_count": 1,
     "metadata": {},
     "output_type": "execute_result"
    }
   ],
   "source": [
    "import numpy as np # linear algebra\n",
    "import pandas as pd # data processing, CSV file I/O (e.g. pd.read_csv)\n",
    "\n",
    "# Input data files are available in the \"../input/\" directory.\n",
    "# For example, running this (by clicking run or pressing Shift+Enter) will list the files in the input directory\n",
    "\n",
    "import os\n",
    "import sklearn\n",
    "from time import time\n",
    "import numpy.linalg as lin\n",
    "from sklearn.preprocessing import MinMaxScaler\n",
    "from sklearn.preprocessing import StandardScaler\n",
    "from sklearn.metrics import mean_squared_error\n",
    "from scipy import linalg\n",
    "#print(os.listdir(\"../input\"))\n",
    "data = pd.read_csv(\"face-2.csv\",header = None)\n",
    "data = data.astype(float)\n",
    "print(data)\n",
    "np.set_printoptions(precision=4)\n",
    "np.random.seed(333)\n",
    "data.shape"
   ]
  },
  {
   "cell_type": "code",
   "execution_count": 2,
   "metadata": {
    "_cell_guid": "79c7e3d0-c299-4dcb-8224-4455121ee9b0",
    "_uuid": "d629ff2d2480ee46fbb7e2d37f6b5fab8052498a"
   },
   "outputs": [
    {
     "data": {
      "text/plain": [
       "(400, 4096)"
      ]
     },
     "execution_count": 2,
     "metadata": {},
     "output_type": "execute_result"
    }
   ],
   "source": [
    "label = np.empty(0)\n",
    "ind = np.ones((1,1))\n",
    "for i in range(40):\n",
    "    m = i* np.ones((1,10))\n",
    "    \n",
    "    \n",
    "    label = np.append([[label]],[[m]])\n",
    "    label = label * ind\n",
    "#print(label.T)  \n",
    "data1 = data.T\n",
    "data1.shape\n",
    "\n",
    "\n"
   ]
  },
  {
   "cell_type": "code",
   "execution_count": 3,
   "metadata": {
    "_uuid": "8a654ade05b4847e63968540b27c55a75c6181bd"
   },
   "outputs": [
    {
     "name": "stdout",
     "output_type": "stream",
     "text": [
      "[[0.2864 0.497  0.2961 ... 0.5854 0.1611 0.5464]\n",
      " [0.3281 0.4856 0.2864 ... 0.575  0.1444 0.5464]\n",
      " [0.3281 0.554  0.2379 ... 0.544  0.1555 0.5464]\n",
      " ...\n",
      " [0.1146 0.0685 0.1019 ... 0.171  0.6665 0.378 ]\n",
      " [0.1042 0.0571 0.1068 ... 0.1917 0.6724 0.3489]\n",
      " [0.0938 0.08   0.1019 ... 0.1969 0.683  0.3604]]\n",
      "[[ 0.      0.2864  0.3281 ...  0.1146  0.1042  0.0938]\n",
      " [ 0.      0.4971  0.4856 ...  0.0685  0.0571  0.08  ]\n",
      " [ 0.      0.2961  0.2864 ...  0.1019  0.1068  0.1019]\n",
      " ...\n",
      " [39.      0.5854  0.5752 ...  0.171   0.1917  0.1969]\n",
      " [39.      0.1611  0.1444 ...  0.6665  0.6724  0.6831]\n",
      " [39.      0.5464  0.5464 ...  0.3779  0.3489  0.3604]]\n"
     ]
    },
    {
     "data": {
      "text/plain": [
       "(400, 4097)"
      ]
     },
     "execution_count": 3,
     "metadata": {},
     "output_type": "execute_result"
    }
   ],
   "source": [
    "scaler = MinMaxScaler(feature_range=(0,1))\n",
    "scaler.fit(data)\n",
    "num_array = scaler.transform(data)\n",
    "array1 = np.float16(num_array)\n",
    "#fae = np.empty(0)\n",
    "#array1 = np.set_printoptions(precision=4)\n",
    "print(array1)\n",
    "#print(num_array.shape)\n",
    "#print(label.shape)\n",
    "fae = np.concatenate((label.T, array1.T), axis=1)\n",
    "\n",
    "print(fae)\n",
    "fae.shape"
   ]
  },
  {
   "cell_type": "code",
   "execution_count": 4,
   "metadata": {
    "_uuid": "17c4807c6640931b18bfd100a97cd84e76b7dbe7"
   },
   "outputs": [
    {
     "name": "stdout",
     "output_type": "stream",
     "text": [
      "40\n",
      "[  4.   7.   6.   9.   3.  18.  15.  11.  19.  14.  28.  21.  25.  29.\n",
      "  23.  31.  30.  37.  32.  38.  44.  49.  48.  43.  45.  53.  51.  59.\n",
      "  54.  58.  68.  69.  65.  61.  64.  72.  74.  79.  77.  73.  88.  87.\n",
      "  80.  85.  82.  94.  99.  96.  91.  90. 101. 109. 105. 108. 106. 112.\n",
      " 116. 117. 114. 113. 120. 128. 126. 124. 129. 136. 135. 132. 138. 133.\n",
      " 146. 143. 140. 149. 142. 152. 157. 151. 154. 155. 166. 165. 167. 162.\n",
      " 169. 177. 176. 171. 178. 179. 189. 188. 186. 185. 181. 192. 196. 198.\n",
      " 193. 190. 200. 202. 209. 205. 201. 218. 216. 217. 219. 215. 224. 229.\n",
      " 225. 223. 222. 231. 234. 233. 239. 235. 248. 244. 241. 249. 242. 251.\n",
      " 253. 254. 255. 258. 267. 264. 261. 268. 263. 270. 275. 272. 273. 279.\n",
      " 286. 280. 281. 288. 283. 297. 294. 293. 290. 292. 300. 309. 305. 303.\n",
      " 302. 312. 317. 319. 311. 310. 320. 324. 327. 325. 322. 333. 338. 332.\n",
      " 330. 331. 344. 341. 346. 340. 342. 350. 358. 352. 353. 356. 367. 364.\n",
      " 361. 369. 362. 376. 372. 374. 370. 377. 386. 387. 384. 388. 385. 391.\n",
      " 392. 390. 395. 397.]\n"
     ]
    }
   ],
   "source": [
    "nclass = fae.max()\n",
    "nclass = np.int16(nclass) + 1\n",
    "print(nclass)\n",
    "label = fae[:,0]\n",
    "label = (label *ind).T\n",
    "tr_idx = np.empty(0)\n",
    "ts_idx = np.empty(0)\n",
    "i = 0\n",
    "#label.astype(int)\n",
    "#print(label)\n",
    "#k =label.item(34)\n",
    "#print(k)\n",
    "#label.astype(int)\n",
    "#print(type(idx_label))\n",
    "count = 0\n",
    "#array = np.empty(0,dtype = np.int)\n",
    "#array.astype(int)\n",
    "#array = np.insert(array,0,count)\n",
    "#print(array)\n",
    "#for j in range(nclass):\n",
    "count = 0\n",
    "#j = 0\n",
    "ts_idx = np.empty(0)\n",
    "tr_idx = np.empty(0)\n",
    "#print(label.shape)\n",
    "for j in range(nclass):\n",
    "   # print(j)\n",
    "    #print(label.item(i))\n",
    "    idx_label = np.empty(0,dtype = np.int16)\n",
    "    while(i < label.shape[0] and j == label.item(i)):\n",
    "        #print(count )\n",
    "        #print(idx_label)\n",
    "        idx_label = np.append(idx_label,count)\n",
    "        #print(idx_label)\n",
    "        count = count +1\n",
    "        i = i+1\n",
    "        \n",
    "    #print(\"idx_label\")\n",
    "    #print(idx_label)\n",
    "    #unique_label = idx_label\n",
    "   # print(unique_label)\n",
    "    length = idx_label.size\n",
    "    tr_num = 5\n",
    "    np.random.shuffle(idx_label) \n",
    "    tr_idx = np.append([[tr_idx]],[[idx_label[0:tr_num]]])\n",
    "    ts_idx = np.append([[ts_idx]],[[idx_label[tr_num:length]]])\n",
    "print(ts_idx)\n"
   ]
  },
  {
   "cell_type": "code",
   "execution_count": 5,
   "metadata": {
    "_uuid": "7739816b9ccf481dc0895ff140e870ad896240b7"
   },
   "outputs": [
    {
     "name": "stdout",
     "output_type": "stream",
     "text": [
      "(200, 4096)\n",
      "[[ 0.  0.  0.  0.  0.  1.  1.  1.  1.  1.  2.  2.  2.  2.  2.  3.  3.  3.\n",
      "   3.  3.  4.  4.  4.  4.  4.  5.  5.  5.  5.  5.  6.  6.  6.  6.  6.  7.\n",
      "   7.  7.  7.  7.  8.  8.  8.  8.  8.  9.  9.  9.  9.  9. 10. 10. 10. 10.\n",
      "  10. 11. 11. 11. 11. 11. 12. 12. 12. 12. 12. 13. 13. 13. 13. 13. 14. 14.\n",
      "  14. 14. 14. 15. 15. 15. 15. 15. 16. 16. 16. 16. 16. 17. 17. 17. 17. 17.\n",
      "  18. 18. 18. 18. 18. 19. 19. 19. 19. 19. 20. 20. 20. 20. 20. 21. 21. 21.\n",
      "  21. 21. 22. 22. 22. 22. 22. 23. 23. 23. 23. 23. 24. 24. 24. 24. 24. 25.\n",
      "  25. 25. 25. 25. 26. 26. 26. 26. 26. 27. 27. 27. 27. 27. 28. 28. 28. 28.\n",
      "  28. 29. 29. 29. 29. 29. 30. 30. 30. 30. 30. 31. 31. 31. 31. 31. 32. 32.\n",
      "  32. 32. 32. 33. 33. 33. 33. 33. 34. 34. 34. 34. 34. 35. 35. 35. 35. 35.\n",
      "  36. 36. 36. 36. 36. 37. 37. 37. 37. 37. 38. 38. 38. 38. 38. 39. 39. 39.\n",
      "  39. 39.]]\n"
     ]
    }
   ],
   "source": [
    "tr_idx = tr_idx.astype(int)\n",
    "ts_idx = ts_idx.astype(int)\n",
    "\n",
    "tr_fea = fae[tr_idx,1:]\n",
    "tr_lab = fae[[tr_idx],0]\n",
    "ts_fea = fae[ts_idx,1:]\n",
    "ts_lab = fae[[ts_idx],0]\n",
    "\n",
    "print(ts_fea.shape)\n",
    "print(ts_lab)"
   ]
  },
  {
   "cell_type": "code",
   "execution_count": 6,
   "metadata": {
    "_uuid": "f832a6777cf2d1ccf3f8fde00af8a7397594413d"
   },
   "outputs": [
    {
     "name": "stdout",
     "output_type": "stream",
     "text": [
      "(200, 4097)\n",
      "0.0001220703125\n",
      "(200, 1)\n",
      "(200, 4096)\n",
      "(200, 1)\n",
      "4096\n"
     ]
    }
   ],
   "source": [
    "Training = np.concatenate((tr_lab.T,tr_fea ), axis=1)\n",
    "Testing = np.concatenate((ts_lab.T,ts_fea ), axis=1)\n",
    "print(Testing.shape)\n",
    "C1 = 2**(-13)\n",
    "print(C1)\n",
    "Number_of_Hidden_Neurons = 40\n",
    "\n",
    "loop = 2\n",
    "Regression = 0\n",
    "fdafe = 0\n",
    "T = Training[:,[0]]\n",
    "print(T.shape)\n",
    "orgT = T\n",
    "P = Training[:,1:]\n",
    "print(P.shape)\n",
    "num_of_input_neuron = P[0,:].size\n",
    "Test_t = Testing[:,[0]]\n",
    "Test_p = Testing[:,1:]\n",
    "print(Test_t.shape)\n",
    "orgtT = Test_t\n",
    "print(num_of_input_neuron)"
   ]
  },
  {
   "cell_type": "code",
   "execution_count": 7,
   "metadata": {
    "_uuid": "9929a0771867aafe136e8fc30aeffad621e27c1e"
   },
   "outputs": [
    {
     "name": "stdout",
     "output_type": "stream",
     "text": [
      "200\n",
      "200\n"
     ]
    }
   ],
   "source": [
    "number_of_train_data = T.size\n",
    "print(number_of_train_data)\n",
    "number_of_test_data = Test_t.size\n",
    "print(number_of_test_data)"
   ]
  },
  {
   "cell_type": "code",
   "execution_count": 8,
   "metadata": {
    "_uuid": "b6e2a635ea1c6560056390f34db401a98faff78e"
   },
   "outputs": [
    {
     "name": "stdout",
     "output_type": "stream",
     "text": [
      "0.0\n",
      "400\n",
      "[[ 0.  1.  2.  3.  4.  5.  6.  7.  8.  9. 10. 11. 12. 13. 14. 15. 16. 17.\n",
      "  18. 19. 20. 21. 22. 23. 24. 25. 26. 27. 28. 29. 30. 31. 32. 33. 34. 35.\n",
      "  36. 37. 38. 39.]]\n",
      "40\n"
     ]
    }
   ],
   "source": [
    "target = np.concatenate((T.T, Test_t.T), axis=1)\n",
    "sorted_target = np.sort(target,axis = 1)\n",
    "print(sorted_target[0,1])\n",
    "m =1\n",
    "unique_label = m* np.ones((1,40))\n",
    "unique_label[0,0] = sorted_target[0,0]\n",
    "i = 1\n",
    "iteration = number_of_train_data + number_of_test_data\n",
    "print(iteration)\n",
    "j = 0\n",
    "while(i<iteration):\n",
    "    if(sorted_target[0,i]!=unique_label[0,j]):\n",
    "        j = j+1\n",
    "        unique_label[0,j]= sorted_target[0,i]\n",
    "    i = i+1\n",
    "num_class = j+1\n",
    "num_of_output_neuron = num_class\n",
    "#print(num_of_output_neuron)\n",
    "print(unique_label)\n",
    "print(num_class)   \n",
    "\n"
   ]
  },
  {
   "cell_type": "code",
   "execution_count": 9,
   "metadata": {
    "_uuid": "38b1e4af56c52e23765e86c3dd000778fcdeb0cf"
   },
   "outputs": [
    {
     "name": "stdout",
     "output_type": "stream",
     "text": [
      "(40, 200)\n"
     ]
    }
   ],
   "source": [
    "temp_T = np.zeros((num_of_output_neuron, number_of_train_data))\n",
    "T = T.T\n",
    "for i in range(number_of_train_data):\n",
    "    for j in range(num_class):\n",
    "        if(unique_label[0,j]==T[0,i]):\n",
    "            break\n",
    "    temp_T[j,i]= 1\n",
    "T = temp_T*2-1\n",
    "print(T.shape)\n",
    "y_train = T"
   ]
  },
  {
   "cell_type": "code",
   "execution_count": 10,
   "metadata": {
    "_uuid": "3887b4452d5a68e0e9da87e18de592055f7ccf9d"
   },
   "outputs": [
    {
     "name": "stdout",
     "output_type": "stream",
     "text": [
      "(40, 200)\n"
     ]
    }
   ],
   "source": [
    "temp_Test_t = np.zeros((num_of_output_neuron, number_of_test_data))\n",
    "Test_t = Test_t.T\n",
    "for i in range(number_of_test_data):\n",
    "    for j in range(num_class):\n",
    "        if(unique_label[0,j]==Test_t[0,i]):\n",
    "            break\n",
    "    temp_Test_t[j,i]= 1\n",
    "Test_t = temp_Test_t*2 -1\n",
    "y_test = Test_t\n",
    "print(Test_t.shape)"
   ]
  },
  {
   "cell_type": "code",
   "execution_count": 11,
   "metadata": {
    "_uuid": "9966aaa054db7b37a57f208bcac8d81a10d83b0e"
   },
   "outputs": [
    {
     "name": "stdout",
     "output_type": "stream",
     "text": [
      "BBP\n",
      "(40, 1)\n",
      "weight\n",
      "[[ 8.3665e-03 -2.0314e-03 -1.5032e-03 ...  1.2056e-03 -5.7153e-04\n",
      "  -2.8869e-03]\n",
      " [-2.0314e-03  1.0328e-02  1.8016e-03 ... -1.4990e-03 -1.1538e-03\n",
      "   8.8224e-04]\n",
      " [-1.5032e-03  1.8016e-03  7.5375e-03 ...  3.3647e-04  2.1771e-03\n",
      "  -1.1105e-03]\n",
      " ...\n",
      " [ 1.2056e-03 -1.4990e-03  3.3647e-04 ...  1.0943e-02 -3.1644e-05\n",
      "   7.0917e-04]\n",
      " [-5.7153e-04 -1.1538e-03  2.1771e-03 ... -3.1644e-05  8.2599e-03\n",
      "   9.7631e-04]\n",
      " [-2.8869e-03  8.8224e-04 -1.1105e-03 ...  7.0917e-04  9.7631e-04\n",
      "   8.9893e-03]]\n",
      "[[-8.4698e-03  1.0662e-02 -2.0786e-02 ... -7.0239e-03  1.6630e-03\n",
      "  -1.2927e-02]\n",
      " [ 1.2257e-03 -3.2636e-02 -1.6177e-02 ... -1.6262e-02  1.1615e-02\n",
      "   1.2964e-02]\n",
      " [-1.4798e-02 -2.5795e-03 -2.1708e-05 ... -4.2140e-03  5.8743e-03\n",
      "  -1.1547e-02]\n",
      " ...\n",
      " [-3.8499e-03  1.0020e-02 -5.4798e-03 ...  1.8952e-02 -1.5364e-03\n",
      "   7.3271e-03]\n",
      " [-1.8227e-02  2.3429e-02  2.3147e-02 ...  9.1428e-03  9.6119e-04\n",
      "  -1.0994e-02]\n",
      " [ 5.4901e-03 -1.9448e-03 -1.7766e-02 ...  1.0206e-02 -1.3356e-02\n",
      "  -3.9007e-03]]\n",
      "(200, 4096)\n",
      "(200, 4096)\n",
      "update k\n",
      "0\n",
      "YYM_H\n",
      "(40, 400)\n",
      "(40, 400)\n",
      "type1=0,so YYM_H updated bt YYM_tempH\n",
      "(40, 400)\n",
      "new\n",
      "[[ 0.6311  0.5561  0.4919 ...  0.7284  0.542   0.6276]\n",
      " [-0.7372 -0.6806 -0.7323 ... -0.561  -0.6318 -0.4989]\n",
      " [-0.4168 -0.5829 -0.4467 ... -0.314  -0.3474 -0.3607]\n",
      " ...\n",
      " [-0.6487 -0.7003 -0.7031 ... -0.3399 -0.3366 -0.3205]\n",
      " [ 0.1643 -0.021   0.1001 ...  0.2666  0.0942  0.1835]\n",
      " [-0.0723 -0.3359 -0.263  ... -0.1162 -0.1757 -0.1625]]\n",
      "H for 200 data\n",
      "[[ 0.6311  0.5561  0.4919 ...  0.6139  0.5974  0.5477]\n",
      " [-0.7372 -0.6806 -0.7323 ... -0.7955 -0.8776 -0.8419]\n",
      " [-0.4168 -0.5829 -0.4467 ... -0.5144 -0.3133 -0.408 ]\n",
      " ...\n",
      " [-0.6487 -0.7003 -0.7031 ... -0.6462 -0.5242 -0.733 ]\n",
      " [ 0.1643 -0.021   0.1001 ...  0.0875  0.1628  0.0047]\n",
      " [-0.0723 -0.3359 -0.263  ... -0.1511 -0.1277 -0.1897]]\n",
      "Y2\n",
      "[[ 0.3457  0.3662  0.4262 ...  0.8035  0.7427  0.6989]\n",
      " [-0.4055 -0.3989 -0.4998 ... -0.7841 -0.7803 -0.7855]\n",
      " [-0.4279 -0.3042 -0.2963 ... -0.7558 -0.786  -0.8027]\n",
      " ...\n",
      " [-0.7153 -0.7211 -0.6856 ...  0.4782  0.4411  0.4378]\n",
      " [ 0.2045  0.2133  0.0914 ... -0.3711 -0.2707 -0.2549]\n",
      " [-0.5114 -0.4964 -0.4874 ...  0.047   0.0973  0.1357]]\n",
      "(200, 4096)\n",
      "Y4 is arcsined\n",
      "[[ 0.353   0.3749  0.4403 ...  0.9331  0.8371  0.7738]\n",
      " [-0.4175 -0.4103 -0.5233 ... -0.9012 -0.8952 -0.9034]\n",
      " [-0.4422 -0.3091 -0.3008 ... -0.8569 -0.9043 -0.9318]\n",
      " ...\n",
      " [-0.797  -0.8054 -0.7554 ...  0.4986  0.4568  0.4532]\n",
      " [ 0.206   0.2149  0.0915 ... -0.3802 -0.2741 -0.2577]\n",
      " [-0.5368 -0.5195 -0.5091 ...  0.047   0.0975  0.1361]]\n"
     ]
    },
    {
     "ename": "ValueError",
     "evalue": "operands could not be broadcast together with shapes (200,200) (40,40) ",
     "output_type": "error",
     "traceback": [
      "\u001b[0;31m---------------------------------------------------------------------------\u001b[0m",
      "\u001b[0;31mValueError\u001b[0m                                Traceback (most recent call last)",
      "\u001b[0;32m<ipython-input-11-8abfc522e2a5>\u001b[0m in \u001b[0;36m<module>\u001b[0;34m()\u001b[0m\n\u001b[1;32m     99\u001b[0m         \u001b[0mprint\u001b[0m\u001b[0;34m(\u001b[0m\u001b[0mY4\u001b[0m\u001b[0;34m)\u001b[0m\u001b[0;34m\u001b[0m\u001b[0;34m\u001b[0m\u001b[0m\n\u001b[1;32m    100\u001b[0m         \u001b[0;32mif\u001b[0m\u001b[0;34m(\u001b[0m\u001b[0mfdafe\u001b[0m\u001b[0;34m==\u001b[0m\u001b[0;36m0\u001b[0m\u001b[0;34m)\u001b[0m\u001b[0;34m:\u001b[0m\u001b[0;34m\u001b[0m\u001b[0;34m\u001b[0m\u001b[0m\n\u001b[0;32m--> 101\u001b[0;31m             \u001b[0mm\u001b[0m \u001b[0;34m=\u001b[0m \u001b[0;34m(\u001b[0m\u001b[0;34m(\u001b[0m\u001b[0mnp\u001b[0m\u001b[0;34m.\u001b[0m\u001b[0meye\u001b[0m\u001b[0;34m(\u001b[0m\u001b[0;34m(\u001b[0m\u001b[0mP\u001b[0m\u001b[0;34m[\u001b[0m\u001b[0;36m0\u001b[0m\u001b[0;34m]\u001b[0m\u001b[0;34m.\u001b[0m\u001b[0msize\u001b[0m\u001b[0;34m)\u001b[0m\u001b[0;34m)\u001b[0m\u001b[0;34m/\u001b[0m\u001b[0mC1\u001b[0m\u001b[0;34m)\u001b[0m\u001b[0;34m+\u001b[0m \u001b[0mP\u001b[0m\u001b[0;34m.\u001b[0m\u001b[0mdot\u001b[0m\u001b[0;34m(\u001b[0m\u001b[0mP\u001b[0m\u001b[0;34m.\u001b[0m\u001b[0mT\u001b[0m\u001b[0;34m)\u001b[0m\u001b[0;34m)\u001b[0m\u001b[0;34m\u001b[0m\u001b[0;34m\u001b[0m\u001b[0m\n\u001b[0m\u001b[1;32m    102\u001b[0m             \u001b[0mn\u001b[0m \u001b[0;34m=\u001b[0m \u001b[0mP\u001b[0m\u001b[0;34m.\u001b[0m\u001b[0mdot\u001b[0m\u001b[0;34m(\u001b[0m\u001b[0mY4\u001b[0m\u001b[0;34m)\u001b[0m\u001b[0;34m\u001b[0m\u001b[0;34m\u001b[0m\u001b[0m\n\u001b[1;32m    103\u001b[0m             \u001b[0ms\u001b[0m \u001b[0;34m=\u001b[0m \u001b[0mP\u001b[0m\u001b[0;34m.\u001b[0m\u001b[0mdot\u001b[0m\u001b[0;34m(\u001b[0m\u001b[0mP\u001b[0m\u001b[0;34m.\u001b[0m\u001b[0mT\u001b[0m\u001b[0;34m)\u001b[0m\u001b[0;34m\u001b[0m\u001b[0;34m\u001b[0m\u001b[0m\n",
      "\u001b[0;31mValueError\u001b[0m: operands could not be broadcast together with shapes (200,200) (40,40) "
     ]
    }
   ],
   "source": [
    "start_train_time = time()\n",
    "T = P\n",
    "Test_t = Test_p\n",
    "kkk = 2\n",
    "#print(P.shape)\n",
    "#print(Test_p.shape)\n",
    "#P = T\n",
    "for k in range(kkk):\n",
    "    if(k==0):\n",
    "        count = 1\n",
    "    else:\n",
    "        count = 1\n",
    "    for nxh in range(count):\n",
    "        if(k==0):\n",
    "            bias_weight = np.random.uniform(size=(Number_of_Hidden_Neurons,1))\n",
    "            BiasofHiddenNeurons1= linalg.orth(bias_weight)\n",
    "            BBP = BiasofHiddenNeurons1\n",
    "            print('BBP')\n",
    "            print(BBP.shape)\n",
    "            input_weight = np.random.uniform(size=(Number_of_Hidden_Neurons,num_of_input_neuron))*2 -1\n",
    "            if(Number_of_Hidden_Neurons>num_of_input_neuron):\n",
    "                input_weight = linalg.orth(input_weight)\n",
    "                I = input_weight.dot(input_weight.T)\n",
    "                print(I)\n",
    "            else:\n",
    "                input_weight = linalg.orth(input_weight.T)\n",
    "                print(\"weight\")\n",
    "                I = input_weight.dot(input_weight.T)\n",
    "                print(I)\n",
    "                print(input_weight)\n",
    "                print(P.shape)\n",
    "                print(Test_p.shape)\n",
    "                print(\"update k\")\n",
    "                print(k)\n",
    "            concate =  np.concatenate((P.T, Test_p.T), axis=1)\n",
    "            YYM_H = input_weight.T.dot(concate)\n",
    "            print(\"YYM_H\")\n",
    "            print(YYM_H.shape)\n",
    "            YYM_tempH = YYM_H + BBP\n",
    "            print(YYM_tempH.shape)\n",
    "        \n",
    "        else:\n",
    "            P = P_save\n",
    "            print(\"P ar ager maan\")\n",
    "            print(P.shape)\n",
    "            input_weight = YYM\n",
    "            print('again i')\n",
    "            I = input_weight.dot(input_weight.T)\n",
    "            print(I)\n",
    "            fdafe = 0\n",
    "            print(\"concate for k =1\")\n",
    "            print(k)\n",
    "            concate =  np.concatenate((P.T, Test_p.T), axis=1)\n",
    "            print(\"con\")\n",
    "            print(concate.shape)\n",
    "            YYM_H = input_weight.dot(concate)\n",
    "            YM_tempH = YYM_H + BBP\n",
    "            \n",
    "            print(YM_tempH.shape)\n",
    "        type1 =0\n",
    "        if(type1 ==1):\n",
    "            YYM_H = np.sin(YYM_tempH)\n",
    "        else:\n",
    "            YYM_H = YYM_tempH\n",
    "            print(\"type1=0,so YYM_H updated bt YYM_tempH\")\n",
    "            print(YYM_H.shape)\n",
    "            deep_features = YYM_H\n",
    "        scaler = MinMaxScaler(feature_range=(-1,1))\n",
    "        scaler.fit(YYM_H)\n",
    "        Y222 = scaler.transform(YYM_H)\n",
    "        print(\"new\")\n",
    "        print(Y222)\n",
    "        H = Y222[:,0:number_of_train_data]\n",
    "        print(\"H for 200 data\")\n",
    "        print(H)\n",
    "    P_save = P\n",
    "    P = H\n",
    "    FT = np.zeros((3,17766))\n",
    "    E1 = T\n",
    "    for i in range(1):\n",
    "        Y2 = E1\n",
    "        scaler = MinMaxScaler(feature_range=(-1,1))\n",
    "        scaler.fit(Y2)\n",
    "        #print(scaler.data_min_)\n",
    "        Y22 = scaler.transform(Y2)\n",
    "        #if(Y22.item(i))\n",
    "        Y2 = Y22\n",
    "        print(\"Y2\")\n",
    "        print(Y2)\n",
    "        #Y2 = Y2.astype(float) \n",
    "        #i = 0\n",
    "        x = np.float32(Y2)\n",
    "        Y4 = np.arcsin(x)\n",
    "        print(Y4.shape)\n",
    "        Y4 = np.real(Y4)\n",
    "        #e = np.isnan(Y4)\n",
    "        #print(e)\n",
    "        print(\"Y4 is arcsined\")\n",
    "        print(Y4)\n",
    "        if(fdafe==0):\n",
    "            m = ((np.eye((P[0].size))/C1)+ P.dot(P.T))\n",
    "            n = P.dot(Y4)\n",
    "            s = P.dot(P.T)\n",
    "            print(s.shape)\n",
    "            print(m)\n",
    "            print(n.shape)\n",
    "            g = lin.solve(m,n)\n",
    "            YYM = g\n",
    "            print(YYM.shape)\n",
    "            print(\"YYM is eyed \")\n",
    "            print(YYM)\n",
    "           # print(P.shape)\n",
    "            YJX = P.dot(YYM) #hbeta\n",
    "            print(\"YJX = P.dot(YYM)shape\")\n",
    "            print(YJX.shape)\n",
    "        else:\n",
    "            print(\"fdafe = 1\")\n",
    "            YJX = P.dot(YYM)\n",
    "        GXZ111 = P.dot(YYM)\n",
    "        GXZ2 = np.sin(GXZ111.T)\n",
    "        print(\"GXZ2\")\n",
    "        print(GXZ2.shape)\n",
    "        #GXZ2 = np.float32(GXZ2)\n",
    "        #print(scale.data_min_)\n",
    "        FYY = scaler.inverse_transform(GXZ2.T)\n",
    "        #scaler = StandardScaler()\n",
    "        #scaler.fit(FYY)\n",
    "        #FYY = scaler.transform(FYY)\n",
    "        print(\"reversed maxmin\")\n",
    "        print(FYY.shape)\n",
    "        GXZ2.shape\n",
    "        FT1 = FYY\n",
    "        E1 = E1-FT1\n",
    "        print(\"E1 = E1-FT1\")\n",
    "        print(\"E1\",E1.shape)\n",
    "        if(i==0):\n",
    "            FT = FT1\n",
    "        else:\n",
    "            FT = FT +FT1\n",
    "        if(i==0):\n",
    "            fdafe = 1\n",
    "        PP = P\n",
    "    end_train_time = time()\n",
    "    Training_time = end_train_time - start_train_time\n",
    "    print(Training_time)\n",
    "    \n",
    "    \n",
    "        \n",
    "                \n",
    "                \n",
    "\n",
    "        \n",
    "            \n",
    "            \n",
    "        \n"
   ]
  },
  {
   "cell_type": "markdown",
   "metadata": {
    "_uuid": "9f55888c42d6dad117f714cace88df912b85b3f9"
   },
   "source": [
    "\n",
    "    "
   ]
  },
  {
   "cell_type": "code",
   "execution_count": null,
   "metadata": {
    "_uuid": "f8fcf5c725db783c2ac683ae33b2d616f6f5f30a"
   },
   "outputs": [],
   "source": [
    "i = 0\n",
    "#print(P.shape)\n",
    "#print(orgtT.shape)\n",
    "Training = np.concatenate((np.int16(orgT), P), axis=1)\n",
    "print(Training)\n",
    "print(Training.shape)\n",
    "H_test =Y222[:,number_of_train_data:]\n",
    "#print(H_test.shape)\n",
    "Testing = np.concatenate((orgtT, H_test), axis=1)\n",
    "#print(Testing)\n",
    "GXZ111 = H_test.dot(YYM)\n",
    "GXZ2 = np.sin(GXZ111.T)\n",
    "print(GXZ2.shape)\n",
    "FYY = scaler.inverse_transform(GXZ2.T)\n",
    "#print(\"1\")\n",
    "print(FYY)\n",
    "print('test')\n",
    "print(Test_t)\n",
    "TY2 = FYY\n",
    "mse = mean_squared_error(TY2,Test_t)\n",
    "Testing_accuracy = np.sqrt(mse)\n",
    "print(Testing_accuracy)"
   ]
  },
  {
   "cell_type": "code",
   "execution_count": 12,
   "metadata": {},
   "outputs": [
    {
     "data": {
      "text/plain": [
       "(40, 400)"
      ]
     },
     "execution_count": 12,
     "metadata": {},
     "output_type": "execute_result"
    }
   ],
   "source": [
    "deep_features.shape"
   ]
  },
  {
   "cell_type": "code",
   "execution_count": 13,
   "metadata": {},
   "outputs": [],
   "source": [
    "x_train_features = deep_features[:,0:number_of_train_data]\n",
    "x_test_features = deep_features[:,number_of_train_data:]"
   ]
  },
  {
   "cell_type": "code",
   "execution_count": 17,
   "metadata": {},
   "outputs": [
    {
     "data": {
      "text/plain": [
       "(200, 40)"
      ]
     },
     "execution_count": 17,
     "metadata": {},
     "output_type": "execute_result"
    }
   ],
   "source": [
    "x_train_features.shape\n",
    "y_train_onehot.shape"
   ]
  },
  {
   "cell_type": "code",
   "execution_count": 18,
   "metadata": {
    "_uuid": "9a64faacf10864206f19579720a359d68af7e7de"
   },
   "outputs": [
    {
     "name": "stdout",
     "output_type": "stream",
     "text": [
      "test_loss: 0.045722\n",
      "test_acc: 0.650000\n",
      "0.65\n",
      "[  0   5  10  15  20  25 155  35  40  45  50  55 125  80  40  75  80  15\n",
      "  85  45 100 105   0 115 120 125 133 135 140 145 150 155 160 165 170  20\n",
      "  40   0  15  65]\n",
      "[  0   5  10  15  20  25  30  35  40  45  50  55  60  65  70  75  80  85\n",
      "  90  95 100 105 110 115 120 125 130 135 140 145 150 155 160 165 170 175\n",
      " 180 185 190 195]\n"
     ]
    }
   ],
   "source": [
    "from ELM import ELM \n",
    "#tf.reset_default_graph()\n",
    "# ===========================================\n",
    "# Instantiate os-elm\n",
    "# ===========================================\n",
    "\n",
    "    \n",
    "def one_hot(y, classes):\n",
    "    I = np.eye(classes)\n",
    "    ret = []\n",
    "    for y_ in y:\n",
    "        ret.append(I[y_])\n",
    "    return np.array(ret)\n",
    "    \n",
    "y_train_onehot = y_train\n",
    "y_test_onehot = y_test\n",
    "    \n",
    "model = ELM(n_input_nodes=200,\n",
    "                    n_hidden_nodes=1000,\n",
    "                    n_output_nodes=40,\n",
    "                    loss='mean_squared_error',\n",
    "                    activation='sigmoid',\n",
    "                    name='elm',\n",
    "                    )\n",
    "   \n",
    "#feature_train = tr_data\n",
    "#feature_test = ts_data\n",
    "feature_train = x_train_features\n",
    "feature_test = x_test_features\n",
    "\n",
    "model.fit(feature_train, y_train_onehot)\n",
    "\n",
    "test_loss, test_acc = model.evaluate(feature_test, y_test_onehot, metrics=['loss', 'accuracy'])\n",
    "print('test_loss: %f' % test_loss)\n",
    "print('test_acc: %f' % test_acc)\n",
    "#accuracy_sum+=test_acc\n",
    "\n",
    "pred = model.predict(feature_test)\n",
    "test_accuracy = np.sum(np.equal(np.argmax(pred,axis=1), np.argmax(y_test_onehot,axis=1)))/len(y_test_onehot)\n",
    "print(test_accuracy)\n",
    "print(np.argmax(pred[:100],axis=1))\n",
    "print(np.argmax(y_test_onehot[:100],axis=1))\n"
   ]
  },
  {
   "cell_type": "code",
   "execution_count": null,
   "metadata": {},
   "outputs": [],
   "source": []
  }
 ],
 "metadata": {
  "kernelspec": {
   "display_name": "Python 3",
   "language": "python",
   "name": "python3"
  },
  "language_info": {
   "codemirror_mode": {
    "name": "ipython",
    "version": 3
   },
   "file_extension": ".py",
   "mimetype": "text/x-python",
   "name": "python",
   "nbconvert_exporter": "python",
   "pygments_lexer": "ipython3",
   "version": "3.6.7"
  }
 },
 "nbformat": 4,
 "nbformat_minor": 1
}
