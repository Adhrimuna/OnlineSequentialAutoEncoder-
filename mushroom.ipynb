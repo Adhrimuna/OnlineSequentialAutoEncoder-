{
 "cells": [
  {
   "cell_type": "code",
   "execution_count": 1,
   "metadata": {},
   "outputs": [
    {
     "name": "stderr",
     "output_type": "stream",
     "text": [
      "/usr/lib/python3/dist-packages/h5py/__init__.py:36: FutureWarning: Conversion of the second argument of issubdtype from `float` to `np.floating` is deprecated. In future, it will be treated as `np.float64 == np.dtype(float).type`.\n",
      "  from ._conv import register_converters as _register_converters\n"
     ]
    },
    {
     "data": {
      "text/plain": [
       "(8124, 23)"
      ]
     },
     "execution_count": 1,
     "metadata": {},
     "output_type": "execute_result"
    }
   ],
   "source": [
    "from auto_elm import AUTO_ELM \n",
    "#from os_MFB1 import MFB_ELM \n",
    "# Our proposed algorithm\n",
    "import pandas as pd \n",
    "import math\n",
    "import numpy as np\n",
    "import tensorflow as tf\n",
    "#from tqdm import tqdm_notebook as tqdm # Jupyter notebook should use this\n",
    "import matplotlib.pyplot as plt\n",
    "import os\n",
    "import cv2\n",
    "import scipy.io as scipy_io\n",
    "\n",
    "train_dataset = np.array(pd.read_csv(\"UCI dataset/mushroom\", header = None,delimiter=' '))\n",
    "train_dataset.shape"
   ]
  },
  {
   "cell_type": "code",
   "execution_count": 2,
   "metadata": {},
   "outputs": [
    {
     "name": "stdout",
     "output_type": "stream",
     "text": [
      "[[1]\n",
      " [2]\n",
      " [2]\n",
      " ...\n",
      " [2]\n",
      " [1]\n",
      " [2]]\n"
     ]
    }
   ],
   "source": [
    "label = train_dataset[:,0]\n",
    "data = train_dataset[:,1:22]\n",
    "label = label.reshape(label.shape[0], 1)\n",
    "print(label)\n",
    "\n",
    "tr_file = 'UCI dataset/mushroom'"
   ]
  },
  {
   "cell_type": "code",
   "execution_count": 3,
   "metadata": {},
   "outputs": [],
   "source": [
    "def process_data(fname, NUM_ATTR, NUM_CLASSES):\n",
    "    I = np.eye(NUM_CLASSES)\n",
    "    with open(fname) as file:\n",
    "        xx = file.readlines()\n",
    "        #print(xx)\n",
    "        data = np.zeros([len(xx), NUM_ATTR])\n",
    "        label = np.zeros(len(xx), dtype=int)\n",
    "        label_onehot = []\n",
    "        for i in range(len(xx)):\n",
    "            tmp = xx[i].split(' ')\n",
    "            label[i] = int(tmp[0])-1\n",
    "            label_onehot.append(I[label[i]])\n",
    "            for j in range(1,len(tmp)-1):\n",
    "                position = int(tmp[j].split(':')[0])\n",
    "                value = 1.0*int(tmp[j].split(':')[1])\n",
    "                data[i][position-1] = value \n",
    "    return data, label, np.array(label_onehot, dtype=int)"
   ]
  },
  {
   "cell_type": "code",
   "execution_count": 4,
   "metadata": {},
   "outputs": [],
   "source": [
    "tr_data, tr_label, tr_onehot = process_data(tr_file, NUM_ATTR=112, NUM_CLASSES=2)"
   ]
  },
  {
   "cell_type": "code",
   "execution_count": 5,
   "metadata": {},
   "outputs": [],
   "source": [
    "y_train = tr_label[:4000]\n",
    "y_test = tr_label[4000:]"
   ]
  },
  {
   "cell_type": "code",
   "execution_count": 6,
   "metadata": {},
   "outputs": [
    {
     "name": "stdout",
     "output_type": "stream",
     "text": [
      "[[0.   0.   0.   ... 0.   0.01 0.  ]\n",
      " [0.   0.   0.   ... 0.   0.   0.  ]\n",
      " [0.   0.01 0.   ... 0.   0.   0.  ]\n",
      " ...\n",
      " [0.   0.   0.   ... 0.   0.   0.  ]\n",
      " [0.   0.   0.01 ... 0.   0.   0.  ]\n",
      " [0.   0.   0.01 ... 0.   0.   0.  ]]\n",
      "(4124, 112)\n",
      "(4000, 2)\n",
      "(4124, 2)\n"
     ]
    }
   ],
   "source": [
    "tr_data = tr_data*0.01\n",
    "x_train = tr_data[:4000]\n",
    "x_test = tr_data[4000:]\n",
    "y_train_onehot = tr_onehot[:4000]\n",
    "y_test_onehot = tr_onehot[4000:]\n",
    "print(x_train)\n",
    "print(x_test.shape)\n",
    "print(y_train_onehot.shape)\n",
    "print(y_test_onehot.shape)"
   ]
  },
  {
   "cell_type": "code",
   "execution_count": 12,
   "metadata": {},
   "outputs": [
    {
     "name": "stdout",
     "output_type": "stream",
     "text": [
      "total initial:  400\n",
      "total sequential:  3600\n",
      "total testing:  4124\n"
     ]
    }
   ],
   "source": [
    "border = 400\n",
    "x_train_init = x_train[:border]\n",
    "x_train_seq = x_train[border:]\n",
    "\n",
    "print('total initial: ', (border))\n",
    "print('total sequential: ', len(x_train_seq))\n",
    "print('total testing: ', len(x_test))"
   ]
  },
  {
   "cell_type": "code",
   "execution_count": 13,
   "metadata": {},
   "outputs": [],
   "source": [
    "n_input_nodes = 112\n",
    "n_hidden_nodes = 37  # used to be 6\n",
    "n_output_nodes = 112"
   ]
  },
  {
   "cell_type": "code",
   "execution_count": 14,
   "metadata": {},
   "outputs": [],
   "source": [
    "tf.reset_default_graph()\n",
    "# ===========================================\n",
    "# Instantiate os-elm\n",
    "# ===========================================\n",
    "auto_elm = AUTO_ELM(\n",
    "    # the number of input nodes.\n",
    "    n_input_nodes=n_input_nodes,\n",
    "    # the number of hidden nodes.\n",
    "    n_hidden_nodes=n_hidden_nodes,\n",
    "    # the number of output nodes.\n",
    "    n_output_nodes=n_output_nodes,\n",
    "    # loss function.\n",
    "    # the default value is 'mean_squared_error'.\n",
    "    # for the other functions, we support\n",
    "    # 'mean_absolute_error', 'categorical_crossentropy', and 'binary_crossentropy'.\n",
    "    c_value = 2.0**(-25),\n",
    "    loss='mean_squared_error',\n",
    "    # activation function applied to the hidden nodes.\n",
    "    # the default value is 'sigmoid'.\n",
    "    # for the other functions, we support 'linear' and 'tanh'.\n",
    "    # NOTE: OS-ELM can apply an activation function only to the hidden nodes.\n",
    "    activation='sin',\n",
    ")"
   ]
  },
  {
   "cell_type": "code",
   "execution_count": 15,
   "metadata": {},
   "outputs": [
    {
     "name": "stdout",
     "output_type": "stream",
     "text": [
      "train_loss: 0.002967, train_accuracy: 0.000000\n",
      "test_loss: 0.001453, test_accuracy: 0.000000\n"
     ]
    }
   ],
   "source": [
    "auto_elm.init_train(x_train_init, x_train_init)\n",
    "\n",
    "import time\n",
    "\n",
    "'''initial training evaluation'''\n",
    "t1 = time.time()\n",
    "[train_loss, accuracy] = auto_elm.evaluate(x_train_init, x_train_init, metrics=['loss', 'accuracy'])\n",
    "[test_loss, accuracy] = auto_elm.evaluate(x_test, x_test, metrics=['loss', 'accuracy'])\n",
    "print('train_loss: %f, train_accuracy: %f' % (train_loss, accuracy))\n",
    "print('test_loss: %f, test_accuracy: %f' % (test_loss, accuracy))\n",
    "t2 = time.time()\n",
    "\n",
    "epoch_train_loss = []\n",
    "epoch_test_loss = []"
   ]
  },
  {
   "cell_type": "code",
   "execution_count": 20,
   "metadata": {},
   "outputs": [
    {
     "ename": "ValueError",
     "evalue": "Cannot feed value of shape (500, 37) for Tensor 'x:0', which has shape '(?, 112)'",
     "output_type": "error",
     "traceback": [
      "\u001b[0;31m---------------------------------------------------------------------------\u001b[0m",
      "\u001b[0;31mValueError\u001b[0m                                Traceback (most recent call last)",
      "\u001b[0;32m<ipython-input-20-afb3aefaf2bb>\u001b[0m in \u001b[0;36m<module>\u001b[0;34m()\u001b[0m\n\u001b[1;32m      6\u001b[0m     \u001b[0;32mfor\u001b[0m \u001b[0mi\u001b[0m \u001b[0;32min\u001b[0m \u001b[0mrange\u001b[0m\u001b[0;34m(\u001b[0m\u001b[0;36m0\u001b[0m\u001b[0;34m,\u001b[0m \u001b[0mlen\u001b[0m\u001b[0;34m(\u001b[0m\u001b[0mx_train_seq\u001b[0m\u001b[0;34m)\u001b[0m\u001b[0;34m,\u001b[0m \u001b[0mbatch_size\u001b[0m\u001b[0;34m)\u001b[0m\u001b[0;34m:\u001b[0m\u001b[0;34m\u001b[0m\u001b[0;34m\u001b[0m\u001b[0m\n\u001b[1;32m      7\u001b[0m         \u001b[0mx_batch\u001b[0m \u001b[0;34m=\u001b[0m \u001b[0mx_train_seq\u001b[0m\u001b[0;34m[\u001b[0m\u001b[0mi\u001b[0m\u001b[0;34m:\u001b[0m\u001b[0mi\u001b[0m\u001b[0;34m+\u001b[0m\u001b[0mbatch_size\u001b[0m\u001b[0;34m]\u001b[0m\u001b[0;34m\u001b[0m\u001b[0;34m\u001b[0m\u001b[0m\n\u001b[0;32m----> 8\u001b[0;31m         \u001b[0mauto_elm\u001b[0m\u001b[0;34m.\u001b[0m\u001b[0mseq_train\u001b[0m\u001b[0;34m(\u001b[0m\u001b[0mx_batch\u001b[0m\u001b[0;34m,\u001b[0m \u001b[0mx_batch\u001b[0m\u001b[0;34m)\u001b[0m\u001b[0;34m\u001b[0m\u001b[0;34m\u001b[0m\u001b[0m\n\u001b[0m\u001b[1;32m      9\u001b[0m         \u001b[0;31m#pbar.update(n=len(x_batch))\u001b[0m\u001b[0;34m\u001b[0m\u001b[0;34m\u001b[0m\u001b[0;34m\u001b[0m\u001b[0m\n\u001b[1;32m     10\u001b[0m     \u001b[0;34m'''epoch evaluation'''\u001b[0m\u001b[0;34m\u001b[0m\u001b[0;34m\u001b[0m\u001b[0m\n",
      "\u001b[0;32m/home/adhri/MFB_ELM_rewrite_March-14/auto_elm.py\u001b[0m in \u001b[0;36mseq_train\u001b[0;34m(self, x, t)\u001b[0m\n\u001b[1;32m    248\u001b[0m                 \u001b[0mself\u001b[0m\u001b[0;34m.\u001b[0m\u001b[0m__sess\u001b[0m\u001b[0;34m.\u001b[0m\u001b[0mrun\u001b[0m\u001b[0;34m(\u001b[0m\u001b[0mself\u001b[0m\u001b[0;34m.\u001b[0m\u001b[0m__beta2alpha\u001b[0m\u001b[0;34m)\u001b[0m\u001b[0;34m\u001b[0m\u001b[0;34m\u001b[0m\u001b[0m\n\u001b[1;32m    249\u001b[0m \u001b[0;34m\u001b[0m\u001b[0m\n\u001b[0;32m--> 250\u001b[0;31m                 \u001b[0mself\u001b[0m\u001b[0;34m.\u001b[0m\u001b[0m__sess\u001b[0m\u001b[0;34m.\u001b[0m\u001b[0mrun\u001b[0m\u001b[0;34m(\u001b[0m\u001b[0mself\u001b[0m\u001b[0;34m.\u001b[0m\u001b[0m__seq_train\u001b[0m\u001b[0;34m,\u001b[0m \u001b[0mfeed_dict\u001b[0m\u001b[0;34m=\u001b[0m\u001b[0;34m{\u001b[0m\u001b[0mself\u001b[0m\u001b[0;34m.\u001b[0m\u001b[0m__x\u001b[0m\u001b[0;34m:\u001b[0m \u001b[0mx\u001b[0m\u001b[0;34m,\u001b[0m \u001b[0mself\u001b[0m\u001b[0;34m.\u001b[0m\u001b[0m__t\u001b[0m\u001b[0;34m:\u001b[0m \u001b[0mt\u001b[0m\u001b[0;34m}\u001b[0m\u001b[0;34m)\u001b[0m\u001b[0;34m\u001b[0m\u001b[0;34m\u001b[0m\u001b[0m\n\u001b[0m\u001b[1;32m    251\u001b[0m \u001b[0;34m\u001b[0m\u001b[0m\n\u001b[1;32m    252\u001b[0m \u001b[0;34m\u001b[0m\u001b[0m\n",
      "\u001b[0;32m/usr/lib/python3/dist-packages/tensorflow/python/client/session.py\u001b[0m in \u001b[0;36mrun\u001b[0;34m(self, fetches, feed_dict, options, run_metadata)\u001b[0m\n\u001b[1;32m    927\u001b[0m     \u001b[0;32mtry\u001b[0m\u001b[0;34m:\u001b[0m\u001b[0;34m\u001b[0m\u001b[0;34m\u001b[0m\u001b[0m\n\u001b[1;32m    928\u001b[0m       result = self._run(None, fetches, feed_dict, options_ptr,\n\u001b[0;32m--> 929\u001b[0;31m                          run_metadata_ptr)\n\u001b[0m\u001b[1;32m    930\u001b[0m       \u001b[0;32mif\u001b[0m \u001b[0mrun_metadata\u001b[0m\u001b[0;34m:\u001b[0m\u001b[0;34m\u001b[0m\u001b[0;34m\u001b[0m\u001b[0m\n\u001b[1;32m    931\u001b[0m         \u001b[0mproto_data\u001b[0m \u001b[0;34m=\u001b[0m \u001b[0mtf_session\u001b[0m\u001b[0;34m.\u001b[0m\u001b[0mTF_GetBuffer\u001b[0m\u001b[0;34m(\u001b[0m\u001b[0mrun_metadata_ptr\u001b[0m\u001b[0;34m)\u001b[0m\u001b[0;34m\u001b[0m\u001b[0;34m\u001b[0m\u001b[0m\n",
      "\u001b[0;32m/usr/lib/python3/dist-packages/tensorflow/python/client/session.py\u001b[0m in \u001b[0;36m_run\u001b[0;34m(self, handle, fetches, feed_dict, options, run_metadata)\u001b[0m\n\u001b[1;32m   1126\u001b[0m                              \u001b[0;34m'which has shape %r'\u001b[0m \u001b[0;34m%\u001b[0m\u001b[0;34m\u001b[0m\u001b[0;34m\u001b[0m\u001b[0m\n\u001b[1;32m   1127\u001b[0m                              (np_val.shape, subfeed_t.name,\n\u001b[0;32m-> 1128\u001b[0;31m                               str(subfeed_t.get_shape())))\n\u001b[0m\u001b[1;32m   1129\u001b[0m           \u001b[0;32mif\u001b[0m \u001b[0;32mnot\u001b[0m \u001b[0mself\u001b[0m\u001b[0;34m.\u001b[0m\u001b[0mgraph\u001b[0m\u001b[0;34m.\u001b[0m\u001b[0mis_feedable\u001b[0m\u001b[0;34m(\u001b[0m\u001b[0msubfeed_t\u001b[0m\u001b[0;34m)\u001b[0m\u001b[0;34m:\u001b[0m\u001b[0;34m\u001b[0m\u001b[0;34m\u001b[0m\u001b[0m\n\u001b[1;32m   1130\u001b[0m             \u001b[0;32mraise\u001b[0m \u001b[0mValueError\u001b[0m\u001b[0;34m(\u001b[0m\u001b[0;34m'Tensor %s may not be fed.'\u001b[0m \u001b[0;34m%\u001b[0m \u001b[0msubfeed_t\u001b[0m\u001b[0;34m)\u001b[0m\u001b[0;34m\u001b[0m\u001b[0;34m\u001b[0m\u001b[0m\n",
      "\u001b[0;31mValueError\u001b[0m: Cannot feed value of shape (500, 37) for Tensor 'x:0', which has shape '(?, 112)'"
     ]
    }
   ],
   "source": [
    "batch_size = 500\n",
    "\n",
    "\n",
    "for epoch in range(100):\n",
    "    #pbar = tqdm(total=len(x_train_seq), desc='sequential training phase')\n",
    "    for i in range(0, len(x_train_seq), batch_size):\n",
    "        x_batch = x_train_seq[i:i+batch_size]\n",
    "        auto_elm.seq_train(x_batch, x_batch)\n",
    "        #pbar.update(n=len(x_batch))\n",
    "    '''epoch evaluation'''\n",
    "    [train_loss, accuracy] = auto_elm.evaluate(x_train_init, x_train_init, metrics=['loss', 'accuracy'])\n",
    "    [test_loss, accuracy] = auto_elm.evaluate(x_test, x_test, metrics=['loss', 'accuracy'])\n",
    "    print('train_loss: %f, train_accuracy: %f' % (train_loss, accuracy))\n",
    "    print('test_loss: %f, test_accuracy: %f' % (test_loss, accuracy))\n",
    "    epoch_train_loss.append(train_loss)\n",
    "    epoch_test_loss.append(test_loss)\n",
    "\n",
    "    #pbar.close()"
   ]
  },
  {
   "cell_type": "code",
   "execution_count": 17,
   "metadata": {},
   "outputs": [
    {
     "name": "stdout",
     "output_type": "stream",
     "text": [
      "(4000, 37)\n",
      "(4124, 37)\n",
      "(4000,)\n",
      "(4124,)\n"
     ]
    }
   ],
   "source": [
    "x_train_encoded = 100*auto_elm.encoding(x_train)\n",
    "x_test_encoded = 100*auto_elm.encoding(x_test)\n",
    "#y_test = y_test_onehot\n",
    "#y_train = y_train_onehot\n",
    "\n",
    "print(x_train_encoded.shape)\n",
    "print(x_test_encoded.shape)\n",
    "print(y_train.shape)\n",
    "print(y_test.shape)\n",
    "\n",
    "border = 500\n",
    "x_train_init = x_train_encoded[:border]\n",
    "y_train_init = y_train[:border]\n",
    "x_train_seq = x_train_encoded[border:]\n",
    "y_train_seq = y_train[border:]"
   ]
  },
  {
   "cell_type": "code",
   "execution_count": null,
   "metadata": {},
   "outputs": [],
   "source": [
    "n_input_nodes = 37\n",
    "n_hidden_nodes = 1  # used to be 256\n",
    "n_output_nodes = 2\n"
   ]
  },
  {
   "cell_type": "code",
   "execution_count": null,
   "metadata": {},
   "outputs": [],
   "source": [
    "tf.reset_default_graph()\n",
    "from os_MFB1 import MFB_ELM \n",
    "\n",
    "C = 4\n",
    "mfb_elm = MFB_ELM(\n",
    "    # the number of input nodes.\n",
    "    n_input_nodes=n_input_nodes,\n",
    "    # the number of hidden nodes.\n",
    "    n_hidden_nodes=n_hidden_nodes,\n",
    "    # the number of output nodes.\n",
    "    n_output_nodes=n_output_nodes,\n",
    "    #C = C,\n",
    "    # loss function.\n",
    "    # the default value is 'mean_squared_error'.\n",
    "    # for the other functions, we support\n",
    "    # 'mean_absolute_error', 'categorical_crossentropy', and 'binary_crossentropy'.\n",
    "    loss='mean_squared_error',\n",
    "    # activation function applied to the hidden nodes.\n",
    "    # the default value is 'sigmoid'.\n",
    "    # for the other functions, we support 'linear' and 'tanh'.\n",
    "    # NOTE: OS-ELM can apply an activation function only to the hidden nodes.\n",
    "    activation='sin',\n",
    "    C = C\n",
    ")"
   ]
  },
  {
   "cell_type": "code",
   "execution_count": null,
   "metadata": {},
   "outputs": [],
   "source": [
    "mfb_elm.init_train(x_train_encoded, y_train_onehot)\n",
    "\n",
    "'''initial training evaluation'''\n",
    "[train_loss, train_accuracy] = mfb_elm.evaluate(x_train_encoded[:len(x_test_encoded)], y_train_onehot[:len(x_test_encoded)], metrics=['loss', 'accuracy'])\n",
    "[test_loss, test_accuracy] = mfb_elm.evaluate(x_test_encoded, y_test_onehot, metrics=['loss', 'accuracy'])\n",
    "print('train_loss: %f, train_accuracy: %f' % (train_loss, train_accuracy))\n",
    "print('test_loss: %f, test_accuracy: %f' % (test_loss, test_accuracy))\n",
    "    \n",
    "epoch_train_accuracy = []\n",
    "epoch_test_accuracy = []"
   ]
  },
  {
   "cell_type": "code",
   "execution_count": null,
   "metadata": {},
   "outputs": [],
   "source": [
    "batch_size = 100\n",
    "\n",
    "\n",
    "for epoch in range(10):\n",
    "    #pbar = tqdm.tqdm(total=len(x_train), desc='sequential training phase')\n",
    "    for i in range(0, len(x_train_seq), batch_size):\n",
    "        x_batch = x_train_seq[i:i+batch_size]\n",
    "        y_batch = y_train_seq[i:i+batch_size]\n",
    "        if len(x_batch) != batch_size:\n",
    "            break\n",
    "        mfb_elm.seq_train(x_batch, y_batch)\n",
    "       # pbar.update(n=len(x_batch))\n",
    "    '''epoch evaluation'''\n",
    "    [train_loss, train_accuracy] = mfb_elm.evaluate(x_train_encoded, y_train_onehot, metrics=['loss', 'accuracy'])\n",
    "    [test_loss, test_accuracy] = mfb_elm.evaluate(x_test_encoded, y_test_onehot, metrics=['loss', 'accuracy'])\n",
    "    print('train_loss: %f, train_accuracy: %f' % (train_loss, train_accuracy))\n",
    "    print('test_loss: %f, test_accuracy: %f' % (test_loss, test_accuracy))\n",
    "    epoch_train_accuracy.append(train_accuracy)\n",
    "    epoch_test_accuracy.append(test_accuracy)"
   ]
  },
  {
   "cell_type": "code",
   "execution_count": null,
   "metadata": {},
   "outputs": [],
   "source": [
    "from ELM import ELM \n",
    "tf.reset_default_graph()\n",
    "# ===========================================\n",
    "# Instantiate os-elm\n",
    "# ===========================================\n",
    "\n",
    "    \n",
    "def one_hot(y, classes):\n",
    "    I = np.eye(classes)\n",
    "    ret = []\n",
    "    for y_ in y:\n",
    "        ret.append(I[y_])\n",
    "    return np.array(ret)\n",
    "    \n",
    "#y_train_onehot = one_hot(y_train, 6)\n",
    "#y_test_onehot = one_hot(y_test, 6)\n",
    "    \n",
    "model = ELM(n_input_nodes=37,\n",
    "                    n_hidden_nodes=100,\n",
    "                    n_output_nodes=2,\n",
    "                    loss='mean_squared_error',\n",
    "                    activation='sigmoid',\n",
    "                    name='elm',\n",
    "                    )\n",
    "   \n",
    "#feature_train = tr_data\n",
    "#feature_test = ts_data\n",
    "feature_train = auto_elm.encoding(x_train)\n",
    "feature_test = auto_elm.encoding(x_test)\n",
    "\n",
    "model.fit(feature_train, y_train_onehot)\n",
    "\n",
    "test_loss, test_acc = model.evaluate(feature_test, y_test_onehot, metrics=['loss', 'accuracy'])\n",
    "print('test_loss: %f' % test_loss)\n",
    "print('test_acc: %f' % test_acc)\n",
    "#accuracy_sum+=test_acc\n",
    "\n",
    "pred = model.predict(x_test_encoded)\n",
    "test_accuracy = np.sum(np.equal(np.argmax(pred,axis=1), np.argmax(y_test_onehot,axis=1)))/len(y_test_onehot)\n",
    "print(test_accuracy)\n",
    "print(np.argmax(pred[:100],axis=1))\n",
    "print(np.argmax(y_test_onehot[:100],axis=1))"
   ]
  },
  {
   "cell_type": "code",
   "execution_count": null,
   "metadata": {},
   "outputs": [],
   "source": [
    "np.random.seed(1337)  # for reproducibility\n",
    "#from sklearn.datasets import load_digits\n",
    "#from sklearn.model_selection import train_test_split\n",
    "from sklearn.metrics.classification import accuracy_score\n",
    "\n",
    "from dbn.tensorflow import SupervisedDBNClassification\n",
    "\n",
    "classifier = SupervisedDBNClassification(hidden_layers_structure=[256, 256],\n",
    "                                         learning_rate_rbm=0.05,\n",
    "                                         learning_rate=0.01,\n",
    "                                         n_epochs_rbm=10,\n",
    "                                         n_iter_backprop=100,\n",
    "                                         batch_size=32,\n",
    "                                         activation_function='relu',\n",
    "                                         dropout_p=0.2)\n",
    "classifier.fit(x_train, y_train)\n",
    "Y_pred = classifier.predict(x_test)\n",
    "print('Done.\\nAccuracy: %f' % accuracy_score(y_test, Y_pred))"
   ]
  },
  {
   "cell_type": "code",
   "execution_count": null,
   "metadata": {},
   "outputs": [],
   "source": [
    "from sklearn.decomposition import PCA\n",
    "# Make an instance of the Model\n",
    "pca = PCA(0.99)\n",
    "pca.fit(x_train)\n",
    "train_img = pca.transform(x_train)\n",
    "test_img  = pca.transform(x_test)\n",
    "train_img.shape,test_img.shape,x_train.shape"
   ]
  },
  {
   "cell_type": "code",
   "execution_count": null,
   "metadata": {},
   "outputs": [],
   "source": [
    "from ELM import ELM \n",
    "tf.reset_default_graph()\n",
    "# ===========================================\n",
    "# Instantiate os-elm\n",
    "# ===========================================\n",
    "\n",
    "    \n",
    "def one_hot(y, classes):\n",
    "    I = np.eye(classes)\n",
    "    ret = []\n",
    "    for y_ in y:\n",
    "        ret.append(I[y_])\n",
    "    return np.array(ret)\n",
    "    \n",
    "#y_train_onehot = one_hot(y_train, 6)\n",
    "#y_test_onehot = one_hot(y_test, 6)\n",
    "    \n",
    "model = ELM(n_input_nodes=37,\n",
    "                    n_hidden_nodes=100,\n",
    "                    n_output_nodes=2,\n",
    "                    loss='mean_squared_error',\n",
    "                    activation='sigmoid',\n",
    "                    name='elm',\n",
    "                    )\n",
    "   \n",
    "feature_train = train_img\n",
    "feature_test = test_img\n",
    "\n",
    "model.fit(feature_train, y_train_onehot)\n",
    "\n",
    "test_loss, test_acc = model.evaluate(feature_test, y_test_onehot, metrics=['loss', 'accuracy'])\n",
    "print('test_loss: %f' % test_loss)\n",
    "print('test_acc: %f' % test_acc)\n",
    "#accuracy_sum+=test_acc\n",
    "   \n",
    "\n",
    "\n",
    "\n",
    "    \n",
    "print(\"==========================================\")\n",
    "print(\"OS-ELA ===================================\")\n",
    "print(\"==========================================\")\n",
    "#print(\"Average time: \", time_sum/10.0)\n",
    "#print(\"Average accuracy: \", accuracy_sum/10.0)\n",
    "print(\"==========================================\")\n",
    "\n",
    "\n",
    "\n",
    "\n",
    "        \n",
    "            "
   ]
  },
  {
   "cell_type": "code",
   "execution_count": null,
   "metadata": {},
   "outputs": [],
   "source": [
    "n_input_nodes = 37\n",
    "n_hidden_nodes = 1  # used to be 256\n",
    "n_output_nodes = 2\n",
    "\n",
    "border = 100\n",
    "x_train_init = feature_train[0:border]\n",
    "y_train_init = y_train_onehot[0:border]\n",
    "x_train_seq = feature_train[border:]\n",
    "y_train_seq = y_train_onehot[border:]"
   ]
  },
  {
   "cell_type": "code",
   "execution_count": null,
   "metadata": {},
   "outputs": [],
   "source": [
    "tf.reset_default_graph()\n",
    "from os_MFB1 import MFB_ELM \n",
    "C = 7\n",
    "mfb_elm = MFB_ELM(\n",
    "    # the number of input nodes.\n",
    "    n_input_nodes=n_input_nodes,\n",
    "    # the number of hidden nodes.\n",
    "    n_hidden_nodes=n_hidden_nodes,\n",
    "    # the number of output nodes.\n",
    "    n_output_nodes=n_output_nodes,\n",
    "    #C = C,\n",
    "    # loss function.\n",
    "    # the default value is 'mean_squared_error'.\n",
    "    # for the other functions, we support\n",
    "    # 'mean_absolute_error', 'categorical_crossentropy', and 'binary_crossentropy'.\n",
    "    loss='mean_squared_error',\n",
    "    # activation function applied to the hidden nodes.\n",
    "    # the default value is 'sigmoid'.\n",
    "    # for the other functions, we support 'linear' and 'tanh'.\n",
    "    # NOTE: OS-ELM can apply an activation function only to the hidden nodes.\n",
    "    activation='sin',\n",
    "    C = C\n",
    ")"
   ]
  },
  {
   "cell_type": "code",
   "execution_count": null,
   "metadata": {},
   "outputs": [],
   "source": [
    "mfb_elm.init_train(x_train_init, y_train_init)\n",
    "\n",
    "'''initial training evaluation'''\n",
    "[train_loss, train_accuracy] = mfb_elm.evaluate(feature_train[:len(feature_test)], y_train_onehot[:len(feature_test)], metrics=['loss', 'accuracy'])\n",
    "[test_loss, test_accuracy] = mfb_elm.evaluate(feature_test, y_test_onehot, metrics=['loss', 'accuracy'])\n",
    "print('train_loss: %f, train_accuracy: %f' % (train_loss, train_accuracy))\n",
    "print('test_loss: %f, test_accuracy: %f' % (test_loss, test_accuracy))\n",
    "    \n",
    "epoch_train_accuracy = []\n",
    "epoch_test_accuracy = []"
   ]
  },
  {
   "cell_type": "code",
   "execution_count": null,
   "metadata": {},
   "outputs": [],
   "source": [
    "batch_size = 500\n",
    "\n",
    "\n",
    "for epoch in range(10):\n",
    "    #pbar = tqdm.tqdm(total=len(x_train), desc='sequential training phase')\n",
    "    for i in range(0, len(x_train_seq), batch_size):\n",
    "        x_batch = x_train_seq[i:i+batch_size]\n",
    "        y_batch = y_train_seq[i:i+batch_size]\n",
    "        if len(x_batch) != batch_size:\n",
    "            break\n",
    "        mfb_elm.seq_train(x_batch, y_batch)\n",
    "       # pbar.update(n=len(x_batch))\n",
    "    '''epoch evaluation'''\n",
    "    [train_loss, train_accuracy] = mfb_elm.evaluate(feature_train, y_train_onehot, metrics=['loss', 'accuracy'])\n",
    "    [test_loss, test_accuracy] = mfb_elm.evaluate(feature_test, y_test_onehot, metrics=['loss', 'accuracy'])\n",
    "    print('train_loss: %f, train_accuracy: %f' % (train_loss, train_accuracy))\n",
    "    print('test_loss: %f, test_accuracy: %f' % (test_loss, test_accuracy))\n",
    "    epoch_train_accuracy.append(train_accuracy)\n",
    "    epoch_test_accuracy.append(test_accuracy)"
   ]
  },
  {
   "cell_type": "code",
   "execution_count": null,
   "metadata": {},
   "outputs": [],
   "source": []
  },
  {
   "cell_type": "code",
   "execution_count": null,
   "metadata": {},
   "outputs": [],
   "source": []
  }
 ],
 "metadata": {
  "kernelspec": {
   "display_name": "Python 3",
   "language": "python",
   "name": "python3"
  },
  "language_info": {
   "codemirror_mode": {
    "name": "ipython",
    "version": 3
   },
   "file_extension": ".py",
   "mimetype": "text/x-python",
   "name": "python",
   "nbconvert_exporter": "python",
   "pygments_lexer": "ipython3",
   "version": "3.6.7"
  }
 },
 "nbformat": 4,
 "nbformat_minor": 2
}
